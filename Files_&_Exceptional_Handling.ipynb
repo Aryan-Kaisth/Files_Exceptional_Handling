{
  "nbformat": 4,
  "nbformat_minor": 0,
  "metadata": {
    "colab": {
      "provenance": []
    },
    "kernelspec": {
      "name": "python3",
      "display_name": "Python 3"
    },
    "language_info": {
      "name": "python"
    }
  },
  "cells": [
    {
      "cell_type": "code",
      "source": [
        "import threading\n",
        "import time\n",
        "import multiprocessing\n",
        "import concurrent.futures"
      ],
      "metadata": {
        "id": "f9SuJqfiXItG"
      },
      "execution_count": 20,
      "outputs": []
    },
    {
      "cell_type": "markdown",
      "source": [
        "**Question 1**\n",
        "\n",
        "### Scenarios Favoring Multithreading\n",
        "\n",
        "1. **I/O-Bound Tasks**:\n",
        "   - **Example**: Reading files, network requests, or database queries.\n",
        "   - **Reason**: Threads can handle multiple I/O operations simultaneously, improving overall efficiency while waiting for external resources.\n",
        "\n",
        "2. **Lightweight Operations**:\n",
        "   - **Example**: Simple computations or operations that require minimal processing time.\n",
        "   - **Reason**: Threads have lower overhead compared to processes, making them more efficient for tasks that don't consume much CPU time.\n",
        "\n",
        "3. **Shared Memory**:\n",
        "   - **Example**: When multiple threads need to access shared data frequently.\n",
        "   - **Reason**: Threads share the same memory space, allowing for easier and faster data sharing compared to inter-process communication.\n",
        "\n",
        "### Scenarios Favoring Multiprocessing\n",
        "\n",
        "1. **CPU-Bound Tasks**:\n",
        "   - **Example**: Heavy computations, data processing, or mathematical calculations.\n",
        "   - **Reason**: Processes can run on separate CPU cores, allowing true parallelism and better performance for CPU-intensive tasks.\n",
        "\n",
        "2. **Isolation and Stability**:\n",
        "   - **Example**: Running separate applications or scripts that may crash or fail independently.\n",
        "   - **Reason**: Processes are isolated; if one fails, it doesn’t affect others, improving the overall stability of the application.\n",
        "\n",
        "3. **Global Interpreter Lock (GIL) Limitation**:\n",
        "   - **Example**: Any task requiring significant CPU time in Python.\n",
        "   - **Reason**: The GIL allows only one thread to execute at a time in CPython, making multiprocessing a better choice for CPU-bound tasks to avoid contention.\n"
      ],
      "metadata": {
        "id": "vPKvLeQRFL87"
      }
    },
    {
      "cell_type": "markdown",
      "source": [
        "---\n",
        "\n",
        "**Question 2**\n",
        "\n",
        "A process pool is a collection of worker processes that can be reused to perform multiple tasks in parallel. In Python, the `multiprocessing.Pool` class helps create and manage these worker processes.\n",
        "\n",
        "### Key Benefits of a Process Pool\n",
        "\n",
        "1. **Efficient Resource Management**:\n",
        "   - Instead of creating a new process for each task (which can be time-consuming and memory-intensive), a process pool reuses a fixed number of processes to handle multiple tasks, reducing overhead.\n",
        "\n",
        "2. **Parallel Task Execution**:\n",
        "   - Multiple tasks can run simultaneously, speeding up computation by leveraging multiple CPU cores, especially for CPU-bound tasks like mathematical calculations, data processing, or simulations.\n",
        "\n",
        "3. **Automatic Load Balancing**:\n",
        "   - The pool manages task distribution among available processes, ensuring an even workload. As each process finishes a task, it's automatically assigned a new one, maximizing CPU usage.\n",
        "\n",
        "4. **Simple API**:\n",
        "   - With methods like `map()` and `apply_async()`, a process pool provides a straightforward way to submit tasks and retrieve results, abstracting away the complexities of process management."
      ],
      "metadata": {
        "id": "DHuW9p3RFMET"
      }
    },
    {
      "cell_type": "markdown",
      "source": [
        "---\n",
        "\n",
        "**Question 3**\n",
        "\n",
        "## What is Multiprocessing?\n",
        "\n",
        "Multiprocessing in Python is a technique that allows a program to create multiple processes, each running independently, to perform tasks concurrently. Each process in Python has its own memory space and resources.data. These\n",
        "processes can communicate with each other through inter-process communication (IPC) mechanisms.\n",
        "\n",
        "## Why Multiprocessing is Used in Python?\n",
        "\n",
        "1. To Overcome the Global Interpreter Lock (GIL)\n",
        "\n",
        "2. For CPU-Bound Tasks\n",
        "\n",
        "3. To Handle Large, Independent Data Tasks\n",
        "\n",
        "4. For Stability and Fault Isolation"
      ],
      "metadata": {
        "id": "sEYQz9rBFMMM"
      }
    },
    {
      "cell_type": "markdown",
      "source": [
        "---\n",
        "\n",
        "**Question 4**\n"
      ],
      "metadata": {
        "id": "q3gfGHN7FMU0"
      }
    },
    {
      "cell_type": "code",
      "source": [
        "# Empty list\n",
        "numbers = []\n",
        "\n",
        "# Lock object to avoid race conditions\n",
        "lock = threading.Lock()\n",
        "\n",
        "def add_numbers():\n",
        "    \"\"\"Function to add numbers to the list.\"\"\"\n",
        "    for i in range(5):\n",
        "        with lock:  # Acquire the lock before accessing the list\n",
        "            numbers.append(i)\n",
        "            print(f\"Added {i} to the list\")\n",
        "        time.sleep(0.5)  # Adding time delay\n",
        "\n",
        "def remove_numbers():\n",
        "    \"\"\"Function to remove numbers from the list.\"\"\"\n",
        "    for _ in range(5):\n",
        "        with lock:  # Acquire the lock before accessing the list\n",
        "            if numbers:\n",
        "                removed = numbers.pop(0)\n",
        "                print(f\"Removed {removed} from the list\")\n",
        "            else:\n",
        "                print(\"List is empty, waiting for items to add\")\n",
        "        time.sleep(0.5)  # Adding time delay\n",
        "\n",
        "# Create threads\n",
        "add_thread = threading.Thread(target=add_numbers)\n",
        "remove_thread = threading.Thread(target=remove_numbers)\n",
        "\n",
        "# Start threads\n",
        "add_thread.start()\n",
        "remove_thread.start()\n",
        "\n",
        "# Wait for threads to complete\n",
        "add_thread.join()\n",
        "remove_thread.join()\n",
        "\n",
        "print(\"Final list:\", numbers)\n"
      ],
      "metadata": {
        "colab": {
          "base_uri": "https://localhost:8080/"
        },
        "id": "Q7T8DuV4W0Br",
        "outputId": "869db0df-bb29-4e65-f4eb-68691ad69356"
      },
      "execution_count": 21,
      "outputs": [
        {
          "output_type": "stream",
          "name": "stdout",
          "text": [
            "Added 0 to the list\n",
            "Removed 0 from the list\n",
            "Added 1 to the list\n",
            "Removed 1 from the list\n",
            "Added 2 to the list\n",
            "Removed 2 from the list\n",
            "Added 3 to the list\n",
            "Removed 3 from the list\n",
            "Added 4 to the list\n",
            "Removed 4 from the list\n",
            "Final list: []\n"
          ]
        }
      ]
    },
    {
      "cell_type": "markdown",
      "source": [
        "---\n",
        "\n",
        "**Question 5**\n",
        "\n",
        "### For Threads (using `threading` module)\n",
        "- **`threading.Lock`**: Prevents multiple threads from accessing shared resources simultaneously.\n",
        "- **`threading.RLock`**: Allows the same thread to acquire a lock multiple times, preventing deadlocks.\n",
        "- **`threading.Semaphore`**: Controls access to a resource pool with a maximum number of concurrent threads.\n",
        "- **`threading.Queue`**: A thread-safe queue for sharing data between threads.\n",
        "\n",
        "### For Processes (using `multiprocessing` module)\n",
        "- **`multiprocessing.Queue`**: A process-safe queue for inter-process communication.\n",
        "- **`multiprocessing.Value` and `multiprocessing.Array`**: Shared memory objects for basic data types and arrays.\n",
        "- **`multiprocessing.Manager`**: Allows sharing complex data structures (like lists and dictionaries) between processes.\n",
        "\n",
        "### General Tools\n",
        "- **`concurrent.futures`**: High-level interfaces for concurrent execution with threads and processes, simplifying data handling.\n",
        "- **Global Interpreter Lock (GIL)**: Ensures thread safety by allowing only one thread to execute Python bytecodes at a time in CPython.\n",
        "\n",
        "These tools help prevent race conditions and data corruption in concurrent programming."
      ],
      "metadata": {
        "id": "GXQaa169FMcj"
      }
    },
    {
      "cell_type": "markdown",
      "source": [
        "---\n",
        "\n",
        "**Question 6**\n",
        "\n",
        "###Importance of Handling Exceptions in Concurrent Programs\n",
        "1. Data Integrity: Unhandled exceptions can lead to data corruption, especially when shared resources are involved. Failing threads or processes might leave shared data in an inconsistent state, causing further errors.\n",
        "\n",
        "2. Graceful Degradation: In concurrent programs, one task might fail while others continue. Handling exceptions allows the program to catch errors in specific threads or processes and recover or retry without affecting the entire program.\n",
        "\n",
        "3. Resource Management: Exceptions can prevent cleanup, such as releasing locks or closing files, potentially causing resource leaks or deadlocks. Exception handling ensures that resources are managed correctly.\n",
        "\n",
        "4. Error Diagnosis: In concurrent environments, errors can be harder to detect and reproduce. Handling exceptions with logging or re-throwing errors helps diagnose the issue accurately.\n",
        "\n",
        "###Techniques for Handling Exceptions\n",
        "\n",
        "1. Try-Except Blocks: Surround code with try-except to catch exceptions.\n",
        "2. Future and Result Handling: Use features of thread or process pools to check for exceptions.\n",
        "3. Custom Exception Handlers: Define functions for consistent exception handling.\n",
        "4. Thread-Specific Handling: Log exceptions per thread for clarity.\n",
        "5. Inter-Process Communication: Use queues or pipes in multiprocessing to send exceptions back for centralized handling."
      ],
      "metadata": {
        "id": "OFG_js4CFMkC"
      }
    },
    {
      "cell_type": "markdown",
      "source": [
        "---\n",
        "\n",
        "**Question 7**"
      ],
      "metadata": {
        "id": "5YR9TQIoFMrL"
      }
    },
    {
      "cell_type": "code",
      "source": [
        "def factorial(n):\n",
        "    \"\"\"Calculate the factorial of a number.\"\"\"\n",
        "    result = 1\n",
        "    for i in range(1, n + 1):\n",
        "        result *= i\n",
        "    return result\n",
        "\n",
        "if __name__ == \"__main__\":\n",
        "    numbers = range(1, 11)  # Numbers from 1 to 10\n",
        "\n",
        "    # Using ThreadPoolExecutor to calculate factorials concurrently\n",
        "    with concurrent.futures.ThreadPoolExecutor() as executor:\n",
        "        results = list(executor.map(factorial, numbers))  # Collect results\n",
        "\n",
        "    # Print the results\n",
        "    for i in range(len(numbers)):\n",
        "        print(f\"{numbers[i]}! = {results[i]}\")\n"
      ],
      "metadata": {
        "colab": {
          "base_uri": "https://localhost:8080/"
        },
        "id": "met31iatoIT6",
        "outputId": "a308b1b5-4d35-40d5-f8e9-49a16b977a59"
      },
      "execution_count": 22,
      "outputs": [
        {
          "output_type": "stream",
          "name": "stdout",
          "text": [
            "1! = 1\n",
            "2! = 2\n",
            "3! = 6\n",
            "4! = 24\n",
            "5! = 120\n",
            "6! = 720\n",
            "7! = 5040\n",
            "8! = 40320\n",
            "9! = 362880\n",
            "10! = 3628800\n"
          ]
        }
      ]
    },
    {
      "cell_type": "markdown",
      "source": [
        "---\n",
        "\n",
        "**Question 8**"
      ],
      "metadata": {
        "id": "N2Jpiv3dFMy0"
      }
    },
    {
      "cell_type": "code",
      "source": [
        "def square(n):\n",
        "    \"\"\"Return the square of a number.\"\"\"\n",
        "    return n * n\n",
        "\n",
        "def compute_squares(pool_size):\n",
        "    \"\"\"Compute squares using a pool of processes.\"\"\"\n",
        "    numbers = range(1, 11)  # Numbers from 1 to 10\n",
        "\n",
        "    with multiprocessing.Pool(processes=pool_size) as pool:\n",
        "        start_time = time.time()  # Start timing\n",
        "        results = pool.map(square, numbers)  # Compute squares\n",
        "        end_time = time.time()  # End timing\n",
        "\n",
        "    print(f\"Pool size: {pool_size}, Time taken: {end_time - start_time:.4f} seconds\")\n",
        "    print(\"Squares:\", results)\n",
        "\n",
        "if __name__ == \"__main__\":\n",
        "    for size in [2, 4, 8]:  # Different pool sizes\n",
        "        compute_squares(size)"
      ],
      "metadata": {
        "colab": {
          "base_uri": "https://localhost:8080/"
        },
        "id": "UUI7trdwqepF",
        "outputId": "3daa1382-1d73-4800-9c1b-519fb206f22a"
      },
      "execution_count": 23,
      "outputs": [
        {
          "output_type": "stream",
          "name": "stdout",
          "text": [
            "Pool size: 2, Time taken: 0.0046 seconds\n",
            "Squares: [1, 4, 9, 16, 25, 36, 49, 64, 81, 100]\n",
            "Pool size: 4, Time taken: 0.0046 seconds\n",
            "Squares: [1, 4, 9, 16, 25, 36, 49, 64, 81, 100]\n",
            "Pool size: 8, Time taken: 0.0029 seconds\n",
            "Squares: [1, 4, 9, 16, 25, 36, 49, 64, 81, 100]\n"
          ]
        }
      ]
    }
  ]
}